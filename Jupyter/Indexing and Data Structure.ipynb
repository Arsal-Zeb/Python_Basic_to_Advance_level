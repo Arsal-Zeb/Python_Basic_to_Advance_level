{
 "cells": [
  {
   "cell_type": "markdown",
   "id": "89926c16",
   "metadata": {},
   "source": [
    "# 01-Indexing in Python"
   ]
  },
  {
   "cell_type": "code",
   "execution_count": 1,
   "id": "d9c967fd",
   "metadata": {},
   "outputs": [
    {
     "data": {
      "text/plain": [
       "'Arsal'"
      ]
     },
     "execution_count": 1,
     "metadata": {},
     "output_type": "execute_result"
    }
   ],
   "source": [
    "#Any String\n",
    "x=\"Arsal\"\n",
    "x"
   ]
  },
  {
   "cell_type": "code",
   "execution_count": 2,
   "id": "b48c48c7",
   "metadata": {},
   "outputs": [
    {
     "data": {
      "text/plain": [
       "'A'"
      ]
     },
     "execution_count": 2,
     "metadata": {},
     "output_type": "execute_result"
    }
   ],
   "source": [
    "x[0]"
   ]
  },
  {
   "cell_type": "code",
   "execution_count": 3,
   "id": "4f4562df",
   "metadata": {},
   "outputs": [
    {
     "data": {
      "text/plain": [
       "'l'"
      ]
     },
     "execution_count": 3,
     "metadata": {},
     "output_type": "execute_result"
    }
   ],
   "source": [
    "x[4]"
   ]
  },
  {
   "cell_type": "code",
   "execution_count": 4,
   "id": "b91f0731",
   "metadata": {},
   "outputs": [
    {
     "data": {
      "text/plain": [
       "'Arsal'"
      ]
     },
     "execution_count": 4,
     "metadata": {},
     "output_type": "execute_result"
    }
   ],
   "source": [
    "x[0:5]"
   ]
  },
  {
   "cell_type": "code",
   "execution_count": 5,
   "id": "9ac5f385",
   "metadata": {},
   "outputs": [
    {
     "data": {
      "text/plain": [
       "'l'"
      ]
     },
     "execution_count": 5,
     "metadata": {},
     "output_type": "execute_result"
    }
   ],
   "source": [
    "x[-1]"
   ]
  },
  {
   "cell_type": "code",
   "execution_count": 6,
   "id": "41d41de1",
   "metadata": {},
   "outputs": [
    {
     "data": {
      "text/plain": [
       "5"
      ]
     },
     "execution_count": 6,
     "metadata": {},
     "output_type": "execute_result"
    }
   ],
   "source": [
    "len(x)"
   ]
  },
  {
   "cell_type": "code",
   "execution_count": 7,
   "id": "10401180",
   "metadata": {},
   "outputs": [
    {
     "data": {
      "text/plain": [
       "'Arsal'"
      ]
     },
     "execution_count": 7,
     "metadata": {},
     "output_type": "execute_result"
    }
   ],
   "source": [
    "x[-5:5]"
   ]
  },
  {
   "cell_type": "markdown",
   "id": "57ab8470",
   "metadata": {},
   "source": [
    "## String Method"
   ]
  },
  {
   "cell_type": "code",
   "execution_count": 8,
   "id": "52a8af98",
   "metadata": {},
   "outputs": [
    {
     "data": {
      "text/plain": [
       "'apples'"
      ]
     },
     "execution_count": 8,
     "metadata": {},
     "output_type": "execute_result"
    }
   ],
   "source": [
    "Food=\"apples\"\n",
    "Food"
   ]
  },
  {
   "cell_type": "code",
   "execution_count": 9,
   "id": "486e6938",
   "metadata": {},
   "outputs": [
    {
     "data": {
      "text/plain": [
       "'Apples'"
      ]
     },
     "execution_count": 9,
     "metadata": {},
     "output_type": "execute_result"
    }
   ],
   "source": [
    "#Capitalize first element\n",
    "Food.capitalize()"
   ]
  },
  {
   "cell_type": "code",
   "execution_count": 10,
   "id": "bc077658",
   "metadata": {},
   "outputs": [
    {
     "data": {
      "text/plain": [
       "'APPLES'"
      ]
     },
     "execution_count": 10,
     "metadata": {},
     "output_type": "execute_result"
    }
   ],
   "source": [
    "#Convert to uppercase\n",
    "Food.upper()"
   ]
  },
  {
   "cell_type": "code",
   "execution_count": 11,
   "id": "75134b94",
   "metadata": {},
   "outputs": [
    {
     "data": {
      "text/plain": [
       "'apples'"
      ]
     },
     "execution_count": 11,
     "metadata": {},
     "output_type": "execute_result"
    }
   ],
   "source": [
    "#Convert to lowercase\n",
    "Food.lower()"
   ]
  },
  {
   "cell_type": "code",
   "execution_count": 12,
   "id": "c41e64ce",
   "metadata": {},
   "outputs": [
    {
     "data": {
      "text/plain": [
       "'aples'"
      ]
     },
     "execution_count": 12,
     "metadata": {},
     "output_type": "execute_result"
    }
   ],
   "source": [
    "#Replacing a letter\n",
    "Food.replace(\"pp\", \"p\")"
   ]
  },
  {
   "cell_type": "code",
   "execution_count": 13,
   "id": "0eda65e1",
   "metadata": {},
   "outputs": [
    {
     "data": {
      "text/plain": [
       "2"
      ]
     },
     "execution_count": 13,
     "metadata": {},
     "output_type": "execute_result"
    }
   ],
   "source": [
    "Food.count(\"p\")"
   ]
  },
  {
   "cell_type": "markdown",
   "id": "40b4e7d6",
   "metadata": {},
   "source": [
    "## - Finding an index number in string"
   ]
  },
  {
   "cell_type": "code",
   "execution_count": 14,
   "id": "64473107",
   "metadata": {},
   "outputs": [
    {
     "data": {
      "text/plain": [
       "'Arsalan, Zeb'"
      ]
     },
     "execution_count": 14,
     "metadata": {},
     "output_type": "execute_result"
    }
   ],
   "source": [
    "name=\"Arsalan, Zeb\"\n",
    "name"
   ]
  },
  {
   "cell_type": "code",
   "execution_count": 15,
   "id": "4d1244a3",
   "metadata": {},
   "outputs": [
    {
     "data": {
      "text/plain": [
       "3"
      ]
     },
     "execution_count": 15,
     "metadata": {},
     "output_type": "execute_result"
    }
   ],
   "source": [
    "name.find(\"a\")\n",
    "\n"
   ]
  },
  {
   "cell_type": "code",
   "execution_count": 16,
   "id": "99251fcc",
   "metadata": {},
   "outputs": [
    {
     "data": {
      "text/plain": [
       "['Arsalan', ' Zeb']"
      ]
     },
     "execution_count": 16,
     "metadata": {},
     "output_type": "execute_result"
    }
   ],
   "source": [
    "name.split(\",\")"
   ]
  },
  {
   "cell_type": "code",
   "execution_count": 17,
   "id": "dd445845",
   "metadata": {},
   "outputs": [
    {
     "name": "stdout",
     "output_type": "stream",
     "text": [
      "Total occurrences are:  4\n"
     ]
    }
   ],
   "source": [
    "repeatingStr = 'Arsalaaan Zeb'\n",
    "start = 0\n",
    "occurrences = 0\n",
    "for i in range(len(repeatingStr)):\n",
    "    j = repeatingStr.find('a', start)\n",
    "    if(j != -1):\n",
    "        start = j+1\n",
    "        occurrences += 1\n",
    "print(\"Total occurrences are: \", occurrences)"
   ]
  },
  {
   "cell_type": "markdown",
   "id": "0388f706",
   "metadata": {},
   "source": [
    "# 02- Data Structure in Python"
   ]
  },
  {
   "cell_type": "markdown",
   "id": "e78611e1",
   "metadata": {},
   "source": [
    "### 1. Tuples"
   ]
  },
  {
   "cell_type": "markdown",
   "id": "9bf3227d",
   "metadata": {},
   "source": [
    "### 2. List\n"
   ]
  },
  {
   "cell_type": "markdown",
   "id": "15cbb065",
   "metadata": {},
   "source": [
    "### 3. Dictionaries"
   ]
  },
  {
   "cell_type": "markdown",
   "id": "093244a0",
   "metadata": {},
   "source": [
    "### 4. Set"
   ]
  },
  {
   "cell_type": "markdown",
   "id": "f40e03c2",
   "metadata": {},
   "source": [
    "## 1. Tuples\n",
    "- ordered collection of elements\n",
    "- enclosed in braces ()\n",
    "- any type of elements can be stored\n",
    "- Element can't be changed (unmutable)"
   ]
  },
  {
   "cell_type": "code",
   "execution_count": 18,
   "id": "5a2e7e69",
   "metadata": {},
   "outputs": [
    {
     "data": {
      "text/plain": [
       "(1, 'python', 2.5)"
      ]
     },
     "execution_count": 18,
     "metadata": {},
     "output_type": "execute_result"
    }
   ],
   "source": [
    "p1=(1,\"python\", 2.5)\n",
    "p1"
   ]
  },
  {
   "cell_type": "code",
   "execution_count": 19,
   "id": "17de0096",
   "metadata": {},
   "outputs": [
    {
     "data": {
      "text/plain": [
       "tuple"
      ]
     },
     "execution_count": 19,
     "metadata": {},
     "output_type": "execute_result"
    }
   ],
   "source": [
    "type(p1)"
   ]
  },
  {
   "cell_type": "markdown",
   "id": "ca2416a1",
   "metadata": {},
   "source": [
    "#### - indexing in tuples"
   ]
  },
  {
   "cell_type": "code",
   "execution_count": 20,
   "id": "f0895c25",
   "metadata": {},
   "outputs": [
    {
     "data": {
      "text/plain": [
       "1"
      ]
     },
     "execution_count": 20,
     "metadata": {},
     "output_type": "execute_result"
    }
   ],
   "source": [
    "p1[0]"
   ]
  },
  {
   "cell_type": "code",
   "execution_count": 21,
   "id": "f20d8b15",
   "metadata": {},
   "outputs": [
    {
     "data": {
      "text/plain": [
       "'python'"
      ]
     },
     "execution_count": 21,
     "metadata": {},
     "output_type": "execute_result"
    }
   ],
   "source": [
    "p1[1]"
   ]
  },
  {
   "cell_type": "code",
   "execution_count": 22,
   "id": "aebc3b03",
   "metadata": {},
   "outputs": [
    {
     "data": {
      "text/plain": [
       "(1, 'python', 2.5)"
      ]
     },
     "execution_count": 22,
     "metadata": {},
     "output_type": "execute_result"
    }
   ],
   "source": [
    "p1[0:3]"
   ]
  },
  {
   "cell_type": "code",
   "execution_count": 23,
   "id": "d3449b6d",
   "metadata": {},
   "outputs": [
    {
     "data": {
      "text/plain": [
       "(1, 'python', 2.5, 1, 'python', 2.5)"
      ]
     },
     "execution_count": 23,
     "metadata": {},
     "output_type": "execute_result"
    }
   ],
   "source": [
    "#Concatination\n",
    "p1+p1"
   ]
  },
  {
   "cell_type": "code",
   "execution_count": 24,
   "id": "627d4a6c",
   "metadata": {},
   "outputs": [
    {
     "data": {
      "text/plain": [
       "(1, 'python', 2.5, 1, 'python', 2.5)"
      ]
     },
     "execution_count": 24,
     "metadata": {},
     "output_type": "execute_result"
    }
   ],
   "source": [
    "p1*2"
   ]
  },
  {
   "cell_type": "code",
   "execution_count": 25,
   "id": "238de53f",
   "metadata": {},
   "outputs": [
    {
     "data": {
      "text/plain": [
       "3"
      ]
     },
     "execution_count": 25,
     "metadata": {},
     "output_type": "execute_result"
    }
   ],
   "source": [
    "len(p1)"
   ]
  },
  {
   "cell_type": "code",
   "execution_count": 26,
   "id": "7727d8f8",
   "metadata": {},
   "outputs": [
    {
     "data": {
      "text/plain": [
       "20"
      ]
     },
     "execution_count": 26,
     "metadata": {},
     "output_type": "execute_result"
    }
   ],
   "source": [
    "tup3=(20,30,40)\n",
    "min(tup3)\n",
    "#max(tup3)"
   ]
  },
  {
   "cell_type": "markdown",
   "id": "06261f35",
   "metadata": {},
   "source": [
    "***"
   ]
  },
  {
   "cell_type": "markdown",
   "id": "33e0c711",
   "metadata": {},
   "source": [
    "***"
   ]
  },
  {
   "cell_type": "markdown",
   "id": "be70da9e",
   "metadata": {},
   "source": [
    "# 02- List\n",
    "- ordered collection of elements\n",
    "- enclosed in square bracted []\n",
    "- mutable, can change the values"
   ]
  },
  {
   "cell_type": "code",
   "execution_count": 27,
   "id": "2976024e",
   "metadata": {},
   "outputs": [
    {
     "data": {
      "text/plain": [
       "[1, 'Arsalan', 5.4, 'zeb']"
      ]
     },
     "execution_count": 27,
     "metadata": {},
     "output_type": "execute_result"
    }
   ],
   "source": [
    "list1=[1, \"Arsalan\", 5.4, \"zeb\"]\n",
    "list1"
   ]
  },
  {
   "cell_type": "code",
   "execution_count": 28,
   "id": "0140d883",
   "metadata": {},
   "outputs": [
    {
     "data": {
      "text/plain": [
       "[1, 'Arsalan', 5.4, 'zeb', 1, 'Arsalan', 5.4, 'zeb']"
      ]
     },
     "execution_count": 28,
     "metadata": {},
     "output_type": "execute_result"
    }
   ],
   "source": [
    "list1+list1"
   ]
  },
  {
   "cell_type": "code",
   "execution_count": 29,
   "id": "5065da46",
   "metadata": {},
   "outputs": [
    {
     "data": {
      "text/plain": [
       "[1, 'Arsalan', 5.4, 'zeb', 1, 'Arsalan', 5.4, 'zeb', 1, 'Arsalan', 5.4, 'zeb']"
      ]
     },
     "execution_count": 29,
     "metadata": {},
     "output_type": "execute_result"
    }
   ],
   "source": [
    "list1*3"
   ]
  },
  {
   "cell_type": "code",
   "execution_count": 30,
   "id": "547acb5a",
   "metadata": {},
   "outputs": [
    {
     "data": {
      "text/plain": [
       "['zeb', 5.4, 'Arsalan', 1]"
      ]
     },
     "execution_count": 30,
     "metadata": {},
     "output_type": "execute_result"
    }
   ],
   "source": [
    "list1.reverse()\n",
    "list1"
   ]
  },
  {
   "cell_type": "code",
   "execution_count": 31,
   "id": "c43851a1",
   "metadata": {
    "scrolled": true
   },
   "outputs": [
    {
     "data": {
      "text/plain": [
       "['zeb', 'Arsalan', 1]"
      ]
     },
     "execution_count": 31,
     "metadata": {},
     "output_type": "execute_result"
    }
   ],
   "source": [
    "list1.remove(5.4)\n",
    "list1"
   ]
  },
  {
   "cell_type": "code",
   "execution_count": 32,
   "id": "a7082d5a",
   "metadata": {},
   "outputs": [
    {
     "data": {
      "text/plain": [
       "1"
      ]
     },
     "execution_count": 32,
     "metadata": {},
     "output_type": "execute_result"
    }
   ],
   "source": [
    "list1.count(\"zeb\")"
   ]
  },
  {
   "cell_type": "code",
   "execution_count": 33,
   "id": "b9acf97d",
   "metadata": {},
   "outputs": [
    {
     "data": {
      "text/plain": [
       "[1, 2, 45, 67, 89, 789]"
      ]
     },
     "execution_count": 33,
     "metadata": {},
     "output_type": "execute_result"
    }
   ],
   "source": [
    "list2=[2,1,67,89,45,789]\n",
    "list2.sort()\n",
    "list2"
   ]
  },
  {
   "cell_type": "markdown",
   "id": "28b99a8b",
   "metadata": {},
   "source": [
    " ***"
   ]
  },
  {
   "cell_type": "markdown",
   "id": "6f398021",
   "metadata": {},
   "source": [
    "### 03- Dictionaries\n",
    "- an unordered collection of elements\n",
    "- key and values\n",
    "- curly brackets {}\n",
    "- mutable, can change values\n"
   ]
  },
  {
   "cell_type": "code",
   "execution_count": 34,
   "id": "ba4c430e",
   "metadata": {},
   "outputs": [
    {
     "data": {
      "text/plain": [
       "dict"
      ]
     },
     "execution_count": 34,
     "metadata": {},
     "output_type": "execute_result"
    }
   ],
   "source": [
    "#Fruits ans their prcies\n",
    "fruits={\"apples\":200, \"bananas\": 300, \"mangoes\": 400}\n",
    "type(fruits)\n"
   ]
  },
  {
   "cell_type": "code",
   "execution_count": 35,
   "id": "a3c21659",
   "metadata": {},
   "outputs": [
    {
     "data": {
      "text/plain": [
       "dict_keys(['apples', 'bananas', 'mangoes'])"
      ]
     },
     "execution_count": 35,
     "metadata": {},
     "output_type": "execute_result"
    }
   ],
   "source": [
    "fruits.keys()"
   ]
  },
  {
   "cell_type": "code",
   "execution_count": 36,
   "id": "46f351f8",
   "metadata": {},
   "outputs": [
    {
     "data": {
      "text/plain": [
       "dict_values([200, 300, 400])"
      ]
     },
     "execution_count": 36,
     "metadata": {},
     "output_type": "execute_result"
    }
   ],
   "source": [
    "fruits.values()"
   ]
  },
  {
   "cell_type": "code",
   "execution_count": 37,
   "id": "b0ee6fdd",
   "metadata": {},
   "outputs": [
    {
     "data": {
      "text/plain": [
       "{'apples': 200, 'bananas': 300, 'mangoes': 400, 'orange': 350}"
      ]
     },
     "execution_count": 37,
     "metadata": {},
     "output_type": "execute_result"
    }
   ],
   "source": [
    "fruits[\"orange\"]=350\n",
    "fruits"
   ]
  },
  {
   "cell_type": "code",
   "execution_count": 38,
   "id": "79578034",
   "metadata": {},
   "outputs": [
    {
     "data": {
      "text/plain": [
       "{'apples': 200, 'bananas': 300, 'mangoes': 400, 'orange': 350, 'grapes': 500}"
      ]
     },
     "execution_count": 38,
     "metadata": {},
     "output_type": "execute_result"
    }
   ],
   "source": [
    "fruits.update({\"grapes\": 500})\n",
    "fruits"
   ]
  },
  {
   "cell_type": "markdown",
   "id": "403b09df",
   "metadata": {},
   "source": [
    "## 04- Set\n",
    "- Unorderd and unindexed\n",
    "- curly braces {}\n",
    "- no duplicate allowed"
   ]
  },
  {
   "cell_type": "code",
   "execution_count": 39,
   "id": "c8db242a",
   "metadata": {},
   "outputs": [
    {
     "data": {
      "text/plain": [
       "{1, 3.5, 6, 'arsal', 'zeb'}"
      ]
     },
     "execution_count": 39,
     "metadata": {},
     "output_type": "execute_result"
    }
   ],
   "source": [
    "x1={1,3.5,6, \"arsal\", \"zeb\", True}\n",
    "x1"
   ]
  },
  {
   "cell_type": "code",
   "execution_count": 40,
   "id": "52916899",
   "metadata": {},
   "outputs": [
    {
     "data": {
      "text/plain": [
       "{1, 10, 3.5, 6, 'arsal', 'zeb'}"
      ]
     },
     "execution_count": 40,
     "metadata": {},
     "output_type": "execute_result"
    }
   ],
   "source": [
    "x1.add(10)\n",
    "x1"
   ]
  },
  {
   "cell_type": "code",
   "execution_count": 41,
   "id": "9c6413be",
   "metadata": {},
   "outputs": [],
   "source": [
    "x1.remove(3.5)\n"
   ]
  },
  {
   "cell_type": "code",
   "execution_count": 42,
   "id": "a62289c0",
   "metadata": {},
   "outputs": [
    {
     "data": {
      "text/plain": [
       "{1, 10, 6, 'arsal', 'zeb'}"
      ]
     },
     "execution_count": 42,
     "metadata": {},
     "output_type": "execute_result"
    }
   ],
   "source": [
    "x1"
   ]
  },
  {
   "cell_type": "code",
   "execution_count": null,
   "id": "2a09fb73",
   "metadata": {},
   "outputs": [],
   "source": []
  }
 ],
 "metadata": {
  "kernelspec": {
   "display_name": "Python 3 (ipykernel)",
   "language": "python",
   "name": "python3"
  },
  "language_info": {
   "codemirror_mode": {
    "name": "ipython",
    "version": 3
   },
   "file_extension": ".py",
   "mimetype": "text/x-python",
   "name": "python",
   "nbconvert_exporter": "python",
   "pygments_lexer": "ipython3",
   "version": "3.9.7"
  }
 },
 "nbformat": 4,
 "nbformat_minor": 5
}
