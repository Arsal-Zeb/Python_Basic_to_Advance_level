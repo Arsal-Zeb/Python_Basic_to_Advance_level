{
 "cells": [
  {
   "cell_type": "markdown",
   "id": "668639cd",
   "metadata": {},
   "source": [
    "# Python Basic Programming in Jupyter Notebook\n",
    "## Author: Arsalan Zeb\n",
    "### Date 04/01/2022"
   ]
  },
  {
   "cell_type": "markdown",
   "id": "2bcdc89c",
   "metadata": {},
   "source": [
    "### 01_My first line of code"
   ]
  },
  {
   "cell_type": "code",
   "execution_count": 1,
   "id": "44ddd204",
   "metadata": {
    "scrolled": false
   },
   "outputs": [
    {
     "name": "stdout",
     "output_type": "stream",
     "text": [
      "welcome to python basic programming\n"
     ]
    }
   ],
   "source": [
    "print (\"welcome to python basic programming\")"
   ]
  },
  {
   "cell_type": "markdown",
   "id": "a3ff4a8e",
   "metadata": {},
   "source": [
    "### 02_Operators\n"
   ]
  },
  {
   "cell_type": "code",
   "execution_count": 2,
   "id": "c0806872",
   "metadata": {
    "scrolled": false
   },
   "outputs": [
    {
     "name": "stdout",
     "output_type": "stream",
     "text": [
      "5\n",
      "1\n",
      "6\n",
      "0.6666666666666666\n",
      "0\n",
      "1\n"
     ]
    }
   ],
   "source": [
    "print(2+3)\n",
    "print(3-2)\n",
    "print(2*3)\n",
    "print(2/3)\n",
    "print(2//3)\n",
    "print(9%2)\n",
    "\n",
    "#PEMDAS\n"
   ]
  },
  {
   "cell_type": "markdown",
   "id": "ded849bf",
   "metadata": {},
   "source": [
    "### 03_Strings"
   ]
  },
  {
   "cell_type": "code",
   "execution_count": 3,
   "id": "1603c2a8",
   "metadata": {},
   "outputs": [
    {
     "name": "stdout",
     "output_type": "stream",
     "text": [
      "Hi, this is Arsalan_Zeb\n",
      "test for single quote\n",
      "test for double quote\n",
      "test for triple quote\n",
      "what's up\n"
     ]
    }
   ],
   "source": [
    "print('Hi, this is Arsalan_Zeb')\n",
    "print('test for single quote')\n",
    "print(\"test for double quote\")\n",
    "print('''test for triple quote''')\n",
    "\n",
    "print(\"what's up\")"
   ]
  },
  {
   "cell_type": "markdown",
   "id": "c84286d5",
   "metadata": {},
   "source": [
    "### 04_Comments_in_Python"
   ]
  },
  {
   "cell_type": "markdown",
   "id": "ace186ca",
   "metadata": {},
   "source": [
    "**for comment CTRL+/ is used\\\n",
    "print(\"We are learning python with sir Ammar\")**\n",
    "\n"
   ]
  },
  {
   "cell_type": "markdown",
   "id": "261de94c",
   "metadata": {},
   "source": [
    "### 05_Varibales"
   ]
  },
  {
   "cell_type": "code",
   "execution_count": 4,
   "id": "9415da5d",
   "metadata": {},
   "outputs": [
    {
     "name": "stdout",
     "output_type": "stream",
     "text": [
      "10\n",
      "Arsal\n",
      "20\n"
     ]
    }
   ],
   "source": [
    "#varibles\n",
    "x=10\n",
    "print(x)\n",
    "\n",
    "y=\"Arsal\"\n",
    "print(y)\n",
    "\n",
    "z=x+10\n",
    "print(z)"
   ]
  },
  {
   "cell_type": "markdown",
   "id": "63dd1a7b",
   "metadata": {},
   "source": [
    "### 06_Input_Varibales"
   ]
  },
  {
   "cell_type": "code",
   "execution_count": 5,
   "id": "90f534e0",
   "metadata": {},
   "outputs": [
    {
     "name": "stdout",
     "output_type": "stream",
     "text": [
      "what is your name? Arsal\n",
      "Hello Arsal\n"
     ]
    }
   ],
   "source": [
    "# fruit_basket=input(\"what is your favoruite fruit?\")\n",
    "# print(fruit_basket)\n",
    "\n",
    "#2nd stage function\n",
    "name=input(\"what is your name? \")\n",
    "#greeting=\"Hello\"\n",
    "print(\"Hello\",name)\n"
   ]
  },
  {
   "cell_type": "markdown",
   "id": "6a6527a2",
   "metadata": {},
   "source": [
    "### 07_Conditional_Logic"
   ]
  },
  {
   "cell_type": "markdown",
   "id": "1cbf67bd",
   "metadata": {},
   "source": [
    "**logical operator are either true or false\\\n",
    "equal to ==\\\n",
    "less than <\\\n",
    "greater than >\\\n",
    "less or equal <=\\\n",
    "not equal !=8**\n",
    "\n",
    "\n"
   ]
  },
  {
   "cell_type": "code",
   "execution_count": 6,
   "id": "c210634d",
   "metadata": {},
   "outputs": [
    {
     "name": "stdout",
     "output_type": "stream",
     "text": [
      "True\n",
      "True\n",
      "False\n",
      "True\n"
     ]
    }
   ],
   "source": [
    "#Is 4 equal to 4\n",
    "print(4==4)\n",
    "print(4>3)\n",
    "print (4<3)\n",
    "print(4!=3)"
   ]
  },
  {
   "cell_type": "markdown",
   "id": "43c57aed",
   "metadata": {},
   "source": [
    "### 08_If_Else_Statement"
   ]
  },
  {
   "cell_type": "code",
   "execution_count": 7,
   "id": "afbe6268",
   "metadata": {},
   "outputs": [
    {
     "name": "stdout",
     "output_type": "stream",
     "text": [
      "Arsal can go for masters\n"
     ]
    }
   ],
   "source": [
    "age=23\n",
    "required_Age_in_masters=22\n",
    "\n",
    "if age>required_Age_in_masters:\n",
    "    print(\"Arsal can go for masters\")\n",
    "\n",
    "elif  age==required_Age_in_masters:\n",
    "    print(\"good to go\")\n",
    "    \n",
    "else:\n",
    "    print(\"Arsal can't go for masters\")"
   ]
  },
  {
   "cell_type": "markdown",
   "id": "c77a5e38",
   "metadata": {},
   "source": [
    "### 09_Functions"
   ]
  },
  {
   "cell_type": "code",
   "execution_count": 8,
   "id": "2d8d887e",
   "metadata": {},
   "outputs": [
    {
     "name": "stdout",
     "output_type": "stream",
     "text": [
      "hammad should go to high school\n"
     ]
    }
   ],
   "source": [
    "#from typing import Text\n",
    "\n",
    "# def afternoon():\n",
    "#     text= \"what time it is?\"\n",
    "#     print(text)\n",
    "\n",
    "# afternoon()\n",
    "\n",
    "def school_calculator(age):\n",
    "    if age==5:\n",
    "        print(\"hammad can join the school\")\n",
    "    elif age>5:\n",
    "        print(\"hammad should go to high school\")\n",
    "    else: \n",
    "        print(\"hammad is still baby\")\n",
    "\n",
    "school_calculator(10)\n",
    "\n"
   ]
  },
  {
   "cell_type": "markdown",
   "id": "88c46508",
   "metadata": {},
   "source": [
    "### 10_Loops"
   ]
  },
  {
   "cell_type": "code",
   "execution_count": 9,
   "id": "60f7d1c7",
   "metadata": {},
   "outputs": [
    {
     "name": "stdout",
     "output_type": "stream",
     "text": [
      "0\n",
      "1\n",
      "2\n",
      "3\n",
      "4\n",
      "5\n",
      "6\n",
      "7\n",
      "8\n",
      "9\n",
      "a\n",
      "b\n",
      "d\n"
     ]
    }
   ],
   "source": [
    "##While Loop example##\n",
    "\n",
    "x=0\n",
    "while (x<10):\n",
    "    print(x)\n",
    "    x=x+1\n",
    "\n",
    "\n",
    "##For Loop example##\n",
    "# for y in range(4,10):\n",
    "#     print (y)\n",
    "\n",
    "\n",
    "arrays=[\"a\",\"b\",\"c\",\"d\"]\n",
    "\n",
    "for i in arrays:\n",
    "    # if (i==\"c\"): break # stop at that point\n",
    "    if (i==\"c\"): continue  #skip that point\n",
    "\n",
    "    print(i)\n",
    "\n"
   ]
  },
  {
   "cell_type": "markdown",
   "id": "2da46db8",
   "metadata": {},
   "source": [
    "### 11_Libraries"
   ]
  },
  {
   "cell_type": "code",
   "execution_count": 10,
   "id": "c89670aa",
   "metadata": {},
   "outputs": [
    {
     "name": "stdout",
     "output_type": "stream",
     "text": [
      "the value of pi is  3.141592653589793\n"
     ]
    }
   ],
   "source": [
    "import math\n",
    "print(\"the value of pi is \" , math.pi)\n",
    "\n",
    "#import statistics\n",
    "\n",
    "# numpy, pandas are few examples of libraries in python etc"
   ]
  },
  {
   "cell_type": "markdown",
   "id": "4b3edd4d",
   "metadata": {},
   "source": [
    "### 12_Troubleshooting"
   ]
  },
  {
   "cell_type": "markdown",
   "id": "9c11a78a",
   "metadata": {},
   "source": [
    "**three types of troubleshooting\\\n",
    "syntax error\\\n",
    "run time error\\\n",
    "symmetric error**"
   ]
  },
  {
   "cell_type": "code",
   "execution_count": null,
   "id": "6b649741",
   "metadata": {},
   "outputs": [],
   "source": [
    "\n"
   ]
  }
 ],
 "metadata": {
  "kernelspec": {
   "display_name": "Python 3 (ipykernel)",
   "language": "python",
   "name": "python3"
  },
  "language_info": {
   "codemirror_mode": {
    "name": "ipython",
    "version": 3
   },
   "file_extension": ".py",
   "mimetype": "text/x-python",
   "name": "python",
   "nbconvert_exporter": "python",
   "pygments_lexer": "ipython3",
   "version": "3.9.7"
  }
 },
 "nbformat": 4,
 "nbformat_minor": 5
}
