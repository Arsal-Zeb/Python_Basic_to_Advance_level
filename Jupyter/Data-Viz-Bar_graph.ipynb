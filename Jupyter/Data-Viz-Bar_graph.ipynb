{
 "cells": [
  {
   "cell_type": "markdown",
   "id": "f2d20b20",
   "metadata": {},
   "source": [
    "## 02 - Bar plot"
   ]
  },
  {
   "cell_type": "code",
   "execution_count": null,
   "id": "0b5666be",
   "metadata": {},
   "outputs": [],
   "source": [
    "#import libraries\n",
    "import seaborn as sns\n",
    "import matplotlib.pyplot as plt\n",
    "\n",
    "#Set styles\n",
    "sns.set_style(\"dark\")\n",
    "\n",
    "#Load data\n",
    "flowers=sns.load_dataset(\"iris\")\n",
    "\n",
    "\n",
    "#bar plot\n",
    "sns.barplot(x=\"species\", y=\"petal_length\", data=flowers)\n",
    "plt.show()"
   ]
  },
  {
   "cell_type": "markdown",
   "id": "ebec0ce4",
   "metadata": {},
   "source": [
    "### - Change Plotting Order of the Data"
   ]
  },
  {
   "cell_type": "code",
   "execution_count": null,
   "id": "4631dd79",
   "metadata": {},
   "outputs": [],
   "source": [
    "#import libraries\n",
    "import seaborn as sns\n",
    "import matplotlib.pyplot as plt\n",
    "\n",
    "#Set styles\n",
    "sns.set_style(\"dark\")\n",
    "\n",
    "#Load data\n",
    "flowers=sns.load_dataset(\"iris\")\n",
    "\n",
    "\n",
    "#bar plot\n",
    "sns.barplot(x=\"species\", y=\"petal_length\", data=flowers, order=[\"virginica\", \"versicolor\", \"setosa\"])\n",
    "plt.show()"
   ]
  },
  {
   "cell_type": "markdown",
   "id": "b2851dd2",
   "metadata": {},
   "source": [
    "### - Changing Color in a graph"
   ]
  },
  {
   "cell_type": "code",
   "execution_count": null,
   "id": "d1c2cfcd",
   "metadata": {},
   "outputs": [],
   "source": [
    "#import libraries\n",
    "import seaborn as sns\n",
    "import matplotlib.pyplot as plt\n",
    "\n",
    "#Set styles\n",
    "sns.set_style(\"dark\")\n",
    "\n",
    "#Load data\n",
    "flowers=sns.load_dataset(\"iris\")\n",
    "\n",
    "\n",
    "#bar plot\n",
    "sns.barplot(x=\"species\", y=\"petal_length\", data=flowers, order=[\"virginica\", \"versicolor\", \"setosa\"], color=\"salmon\")\n",
    "plt.show()"
   ]
  },
  {
   "cell_type": "markdown",
   "id": "989ecafd",
   "metadata": {},
   "source": [
    "### - Confidence interval removal, or ci or error bar"
   ]
  },
  {
   "cell_type": "code",
   "execution_count": null,
   "id": "1747447e",
   "metadata": {
    "scrolled": true
   },
   "outputs": [],
   "source": [
    "#import libraries\n",
    "import seaborn as sns\n",
    "import matplotlib.pyplot as plt\n",
    "\n",
    "#Set styles\n",
    "sns.set_style(\"dark\")\n",
    "\n",
    "#Load data\n",
    "flowers=sns.load_dataset(\"iris\")\n",
    "\n",
    "\n",
    "#bar plot\n",
    "sns.barplot(x=\"species\", y=\"petal_length\", data=flowers, order=[\"virginica\", \"versicolor\", \"setosa\"],  ci=None)\n",
    "plt.show()"
   ]
  },
  {
   "cell_type": "markdown",
   "id": "9b39929b",
   "metadata": {},
   "source": [
    "### - palette from seabon library\n",
    "- https://seaborn.pydata.org/tutorial/color_palettes.html"
   ]
  },
  {
   "cell_type": "code",
   "execution_count": null,
   "id": "baa817e5",
   "metadata": {},
   "outputs": [],
   "source": [
    "#import libraries\n",
    "import seaborn as sns\n",
    "import matplotlib.pyplot as plt\n",
    "\n",
    "#Set styles\n",
    "sns.set_style(\"dark\")\n",
    "\n",
    "#Load data\n",
    "flowers=sns.load_dataset(\"iris\")\n",
    "\n",
    "\n",
    "#bar plot\n",
    "sns.barplot(x=\"species\", y=\"petal_length\", data=flowers,  ci=None, palette=\"bright\")\n",
    "\n",
    "## more info about palette from seabon library\n",
    "### https://seaborn.pydata.org/tutorial/color_palettes.html\n",
    "\n",
    "plt.show()"
   ]
  },
  {
   "cell_type": "markdown",
   "id": "518a00c1",
   "metadata": {},
   "source": [
    "### - Using estimator - mean and median"
   ]
  },
  {
   "cell_type": "code",
   "execution_count": null,
   "id": "5c526de4",
   "metadata": {},
   "outputs": [],
   "source": [
    "#import libraries\n",
    "import seaborn as sns\n",
    "from numpy import median\n",
    "import matplotlib.pyplot as plt\n",
    "\n",
    "#Set styles\n",
    "sns.set_style(\"dark\")\n",
    "\n",
    "#Load data\n",
    "flowers=sns.load_dataset(\"iris\")\n",
    "print(flowers)\n",
    "\n",
    "#bar plot\n",
    "sns.barplot(x=\"species\", y=\"petal_width\", data=flowers,  estimator= median)\n",
    "\n",
    "## more info about palette from seabon library\n",
    "### https://seaborn.pydata.org/tutorial/color_palettes.html\n",
    "\n",
    "plt.show()"
   ]
  },
  {
   "cell_type": "code",
   "execution_count": null,
   "id": "25a5d597",
   "metadata": {},
   "outputs": [],
   "source": [
    "#import libraries\n",
    "import seaborn as sns\n",
    "from numpy import mean\n",
    "import matplotlib.pyplot as plt\n",
    "\n",
    "#Set styles\n",
    "sns.set_style(\"dark\")\n",
    "\n",
    "#Load data\n",
    "flowers=sns.load_dataset(\"iris\")\n",
    "\n",
    "#bar plot\n",
    "sns.barplot(x=\"species\", y=\"petal_width\", data=flowers,  estimator= mean)\n",
    "\n",
    "## more info about palette from seabon library\n",
    "### https://seaborn.pydata.org/tutorial/color_palettes.html\n",
    "\n",
    "plt.show()"
   ]
  },
  {
   "cell_type": "markdown",
   "id": "6542c952",
   "metadata": {},
   "source": [
    "### - Graph Saturation"
   ]
  },
  {
   "cell_type": "code",
   "execution_count": null,
   "id": "2f31d945",
   "metadata": {},
   "outputs": [],
   "source": [
    "#import libraries\n",
    "import seaborn as sns\n",
    "import numpy \n",
    "import matplotlib.pyplot as plt\n",
    "\n",
    "#Set styles\n",
    "sns.set_style(\"dark\")\n",
    "\n",
    "#Load data\n",
    "flowers=sns.load_dataset(\"iris\")\n",
    "\n",
    "#bar plot\n",
    "sns.barplot(x=\"species\", y=\"petal_width\", data=flowers,  estimator= mean, saturation=3)\n",
    "\n",
    "## more info about palette from seabon library\n",
    "### https://seaborn.pydata.org/tutorial/color_palettes.html\n",
    "\n",
    "plt.show()"
   ]
  },
  {
   "cell_type": "markdown",
   "id": "6d087a68",
   "metadata": {},
   "source": [
    "## 05- Customizing the plot, color, width etc"
   ]
  },
  {
   "cell_type": "code",
   "execution_count": null,
   "id": "1bacad8a",
   "metadata": {},
   "outputs": [],
   "source": [
    "#import libraries\n",
    "import seaborn as sns\n",
    "import numpy \n",
    "import matplotlib.pyplot as plt\n",
    "\n",
    "#Set styles\n",
    "sns.set_style(\"dark\")\n",
    "\n",
    "#Load data\n",
    "flowers=sns.load_dataset(\"iris\")\n",
    "\n",
    "#bar plot\n",
    "sns.barplot(x=\"species\", y=\"petal_width\", data=flowers, linewidth=3, facecolor=(.5,1,1,0.5), errcolor=\"0\", edgecolor=\"0\" )\n",
    "\n",
    "## more info about palette from seabon library\n",
    "### https://seaborn.pydata.org/tutorial/color_palettes.html\n",
    "\n",
    "plt.show()"
   ]
  },
  {
   "cell_type": "markdown",
   "id": "496125fc",
   "metadata": {},
   "source": [
    "## 06- Boxplot "
   ]
  },
  {
   "cell_type": "code",
   "execution_count": null,
   "id": "e520b7e1",
   "metadata": {},
   "outputs": [],
   "source": [
    "#import libraries\n",
    "import seaborn as sns\n",
    "import numpy \n",
    "import matplotlib.pyplot as plt\n",
    "\n",
    "#Set styles\n",
    "sns.set_style(\"dark\")\n",
    "\n",
    "#Load data\n",
    "flowers=sns.load_dataset(\"iris\")\n",
    "\n",
    "#bar plot\n",
    "sns.boxplot(x=\"species\", y=\"petal_width\", data=flowers )\n",
    "\n",
    "## more info about palette from seabon library\n",
    "### https://seaborn.pydata.org/tutorial/color_palettes.html\n",
    "\n",
    "plt.show()"
   ]
  },
  {
   "cell_type": "code",
   "execution_count": null,
   "id": "acbf01e6",
   "metadata": {},
   "outputs": [],
   "source": [
    "#import libraries\n",
    "import seaborn as sns\n",
    "# import numpy \n",
    "# import matplotlib.pyplot as plt\n",
    "\n",
    "#Set styles\n",
    "sns.set_style(\"whitegrid\")\n",
    "\n",
    "#Load data\n",
    "tip=sns.load_dataset(\"tips\")\n",
    "# print(tip)\n",
    "\n",
    "#bar plot\n",
    "sns.boxplot(x=\"day\", y=\"tip\", data=tip, saturation=3)\n",
    "\n",
    "\n",
    "plt.show()"
   ]
  },
  {
   "cell_type": "code",
   "execution_count": null,
   "id": "71a52e16",
   "metadata": {},
   "outputs": [],
   "source": [
    "#import libraries\n",
    "import seaborn as sns\n",
    "import numpy \n",
    "import matplotlib.pyplot as plt\n",
    "\n",
    "#Set styles\n",
    "sns.set_style(\"whitegrid\")\n",
    "\n",
    "#Load data\n",
    "tip=sns.load_dataset(\"tips\")\n",
    "print(tip)\n",
    "\n",
    "#Data describe\n",
    "tip.describe()\n",
    "# print(tip)\n",
    "\n",
    "#bar plot\n",
    "sns.boxplot(x=\"day\", y=\"tip\", data=tip, saturation=3)\n",
    "\n",
    "\n",
    "plt.show()"
   ]
  },
  {
   "cell_type": "code",
   "execution_count": null,
   "id": "1932ca06",
   "metadata": {},
   "outputs": [],
   "source": [
    "#import libraries\n",
    "import seaborn as sns\n",
    "import numpy \n",
    "import matplotlib.pyplot as plt\n",
    "\n",
    "#Set styles\n",
    "sns.set_style(\"whitegrid\")\n",
    "\n",
    "#Load data\n",
    "tip=sns.load_dataset(\"tips\")\n",
    "\n",
    "\n",
    "#Data describe\n",
    "tip.describe()\n",
    "# print(tip)\n",
    "\n",
    "#bar plot\n",
    "sns.boxplot(x=\"tip\", y=\"day\", data=tip, palette=\"bright\", saturation=3)\n",
    "\n",
    "\n",
    "# plt.show()"
   ]
  },
  {
   "cell_type": "code",
   "execution_count": null,
   "id": "a6bd1ff9",
   "metadata": {},
   "outputs": [],
   "source": [
    "#import libraries\n",
    "import seaborn as sns\n",
    "import numpy \n",
    "import matplotlib.pyplot as plt\n",
    "\n",
    "#Set styles\n",
    "sns.set_style(\"whitegrid\")\n",
    "\n",
    "#Load data\n",
    "tip=sns.load_dataset(\"tips\")\n",
    "print(tip)\n",
    "\n",
    "#bar plot\n",
    "sns.boxplot(x=\"tip\", y=\"day\", hue=\"smoker\" , data=tip,  palette=\"Set2\", dodge=True,  saturation=3)\n",
    "\n",
    "plt.show()\n"
   ]
  },
  {
   "cell_type": "markdown",
   "id": "e25d3d3e",
   "metadata": {},
   "source": [
    "### - Hex color code"
   ]
  },
  {
   "cell_type": "code",
   "execution_count": null,
   "id": "1e72731e",
   "metadata": {},
   "outputs": [],
   "source": [
    "#import libraries\n",
    "import seaborn as sns\n",
    "import numpy \n",
    "import matplotlib.pyplot as plt\n",
    "\n",
    "#Set styles\n",
    "sns.set_style(\"whitegrid\")\n",
    "\n",
    "#Load data\n",
    "tip=sns.load_dataset(\"tips\")\n",
    "\n",
    "\n",
    "#bar plot #Hex color code, pick value from google\n",
    "sns.boxplot(x=\"tip\", y=\"day\" , data=tip, saturation=3, color=\"#A7FA15\")\n",
    "\n",
    "plt.show()\n"
   ]
  },
  {
   "cell_type": "markdown",
   "id": "01700d13",
   "metadata": {},
   "source": [
    "### Assignment 01"
   ]
  },
  {
   "cell_type": "code",
   "execution_count": null,
   "id": "d21927c1",
   "metadata": {},
   "outputs": [],
   "source": [
    "#import libraries\n",
    "import seaborn as sns\n",
    "import numpy \n",
    "import matplotlib.pyplot as plt\n",
    "\n",
    "#Set styles\n",
    "sns.set_style(\"whitegrid\")\n",
    "\n",
    "#Load data\n",
    "tip=sns.load_dataset(\"tips\")\n",
    "\n",
    "\n",
    "#bar plot #Hex color code, pick value from google\n",
    "#sns.boxplot(x=\"tip\", y=\"day\" , data=tip, saturation=3, color=\"#A7FA15\")\n",
    "sns.boxplot(x=\"tip\", y=\"day\", saturation= 1, data=tip, hue=\"smoker\",\n",
    "            palette ={\"Yes\": \"yellow\", \"No\": \"pink\"})\n",
    "plt.show()\n"
   ]
  },
  {
   "cell_type": "code",
   "execution_count": 5,
   "id": "a56e4d1c",
   "metadata": {},
   "outputs": [
    {
     "data": {
      "text/html": [
       "<div>\n",
       "<style scoped>\n",
       "    .dataframe tbody tr th:only-of-type {\n",
       "        vertical-align: middle;\n",
       "    }\n",
       "\n",
       "    .dataframe tbody tr th {\n",
       "        vertical-align: top;\n",
       "    }\n",
       "\n",
       "    .dataframe thead th {\n",
       "        text-align: right;\n",
       "    }\n",
       "</style>\n",
       "<table border=\"1\" class=\"dataframe\">\n",
       "  <thead>\n",
       "    <tr style=\"text-align: right;\">\n",
       "      <th></th>\n",
       "      <th>survived</th>\n",
       "      <th>pclass</th>\n",
       "      <th>sex</th>\n",
       "      <th>age</th>\n",
       "      <th>sibsp</th>\n",
       "      <th>parch</th>\n",
       "      <th>fare</th>\n",
       "      <th>embarked</th>\n",
       "      <th>class</th>\n",
       "      <th>who</th>\n",
       "      <th>adult_male</th>\n",
       "      <th>deck</th>\n",
       "      <th>embark_town</th>\n",
       "      <th>alive</th>\n",
       "      <th>alone</th>\n",
       "    </tr>\n",
       "  </thead>\n",
       "  <tbody>\n",
       "    <tr>\n",
       "      <th>0</th>\n",
       "      <td>0</td>\n",
       "      <td>3</td>\n",
       "      <td>male</td>\n",
       "      <td>22.0</td>\n",
       "      <td>1</td>\n",
       "      <td>0</td>\n",
       "      <td>7.2500</td>\n",
       "      <td>S</td>\n",
       "      <td>Third</td>\n",
       "      <td>man</td>\n",
       "      <td>True</td>\n",
       "      <td>NaN</td>\n",
       "      <td>Southampton</td>\n",
       "      <td>no</td>\n",
       "      <td>False</td>\n",
       "    </tr>\n",
       "    <tr>\n",
       "      <th>1</th>\n",
       "      <td>1</td>\n",
       "      <td>1</td>\n",
       "      <td>female</td>\n",
       "      <td>38.0</td>\n",
       "      <td>1</td>\n",
       "      <td>0</td>\n",
       "      <td>71.2833</td>\n",
       "      <td>C</td>\n",
       "      <td>First</td>\n",
       "      <td>woman</td>\n",
       "      <td>False</td>\n",
       "      <td>C</td>\n",
       "      <td>Cherbourg</td>\n",
       "      <td>yes</td>\n",
       "      <td>False</td>\n",
       "    </tr>\n",
       "    <tr>\n",
       "      <th>2</th>\n",
       "      <td>1</td>\n",
       "      <td>3</td>\n",
       "      <td>female</td>\n",
       "      <td>26.0</td>\n",
       "      <td>0</td>\n",
       "      <td>0</td>\n",
       "      <td>7.9250</td>\n",
       "      <td>S</td>\n",
       "      <td>Third</td>\n",
       "      <td>woman</td>\n",
       "      <td>False</td>\n",
       "      <td>NaN</td>\n",
       "      <td>Southampton</td>\n",
       "      <td>yes</td>\n",
       "      <td>True</td>\n",
       "    </tr>\n",
       "    <tr>\n",
       "      <th>3</th>\n",
       "      <td>1</td>\n",
       "      <td>1</td>\n",
       "      <td>female</td>\n",
       "      <td>35.0</td>\n",
       "      <td>1</td>\n",
       "      <td>0</td>\n",
       "      <td>53.1000</td>\n",
       "      <td>S</td>\n",
       "      <td>First</td>\n",
       "      <td>woman</td>\n",
       "      <td>False</td>\n",
       "      <td>C</td>\n",
       "      <td>Southampton</td>\n",
       "      <td>yes</td>\n",
       "      <td>False</td>\n",
       "    </tr>\n",
       "    <tr>\n",
       "      <th>4</th>\n",
       "      <td>0</td>\n",
       "      <td>3</td>\n",
       "      <td>male</td>\n",
       "      <td>35.0</td>\n",
       "      <td>0</td>\n",
       "      <td>0</td>\n",
       "      <td>8.0500</td>\n",
       "      <td>S</td>\n",
       "      <td>Third</td>\n",
       "      <td>man</td>\n",
       "      <td>True</td>\n",
       "      <td>NaN</td>\n",
       "      <td>Southampton</td>\n",
       "      <td>no</td>\n",
       "      <td>True</td>\n",
       "    </tr>\n",
       "  </tbody>\n",
       "</table>\n",
       "</div>"
      ],
      "text/plain": [
       "   survived  pclass     sex   age  sibsp  parch     fare embarked  class  \\\n",
       "0         0       3    male  22.0      1      0   7.2500        S  Third   \n",
       "1         1       1  female  38.0      1      0  71.2833        C  First   \n",
       "2         1       3  female  26.0      0      0   7.9250        S  Third   \n",
       "3         1       1  female  35.0      1      0  53.1000        S  First   \n",
       "4         0       3    male  35.0      0      0   8.0500        S  Third   \n",
       "\n",
       "     who  adult_male deck  embark_town alive  alone  \n",
       "0    man        True  NaN  Southampton    no  False  \n",
       "1  woman       False    C    Cherbourg   yes  False  \n",
       "2  woman       False  NaN  Southampton   yes   True  \n",
       "3  woman       False    C  Southampton   yes  False  \n",
       "4    man        True  NaN  Southampton    no   True  "
      ]
     },
     "execution_count": 5,
     "metadata": {},
     "output_type": "execute_result"
    }
   ],
   "source": [
    "import seaborn as sns\n",
    "import pandas as pd\n",
    "import numpy as np\n",
    "\n",
    "titanic_data= sns.load_dataset(\"titanic\")\n",
    "titanic_data.head()"
   ]
  },
  {
   "cell_type": "code",
   "execution_count": 38,
   "id": "3ad5db2c",
   "metadata": {},
   "outputs": [
    {
     "data": {
      "image/png": "[encoded data removed]",
      "text/plain": [
       "<Figure size 432x288 with 1 Axes>"
      ]
     },
     "metadata": {},
     "output_type": "display_data"
    }
   ],
   "source": [
    "import seaborn as sns\n",
    "import pandas as pd\n",
    "import numpy as np\n",
    "import matplotlib.pyplot as plt\n",
    "\n",
    "titanic_data= sns.load_dataset(\"titanic\")\n",
    " \n",
    "sns.boxplot(x=\"survived\", y=\"age\",showmeans=True, meanprops={\"marker\":\"*\", \"markersize\":\"10\", \"markeredgecolor\":\"red\"},\n",
    "            data=titanic_data)\n",
    "\n",
    "#Show labels\n",
    "plt.xlabel(\"Survived\",size=15)\n",
    "plt.ylabel(\"Age\", size=15)\n",
    "plt.title(\"No. of Survied People in Titanic\", size=15, weight=\"bold\")\n",
    "\n",
    "plt.show()"
   ]
  },
  {
   "cell_type": "code",
   "execution_count": 17,
   "id": "35f55080",
   "metadata": {},
   "outputs": [
    {
     "data": {
      "text/plain": [
       "Text(0.5, 1.0, 'Resturant Data plot')"
      ]
     },
     "execution_count": 17,
     "metadata": {},
     "output_type": "execute_result"
    },
    {
     "data": {
      "image/png": "[encoded data removed]",
      "text/plain": [
       "<Figure size 432x288 with 1 Axes>"
      ]
     },
     "metadata": {},
     "output_type": "display_data"
    }
   ],
   "source": [
    "import seaborn as sns\n",
    "sns.set_theme(style=\"ticks\", palette=\"pastel\")\n",
    "\n",
    "# Load the example tips dataset\n",
    "tips = sns.load_dataset(\"tips\")\n",
    "\n",
    "# Draw a nested boxplot to show bills by day and time\n",
    "sns.boxplot(x=\"day\", y=\"total_bill\",\n",
    "            hue=\"smoker\", palette=[\"m\", \"g\"],\n",
    "            data=tips)\n",
    "plt.xlabel(\"Day\",size=15)\n",
    "plt.ylabel(\"Total_Bill\", size=15)\n",
    "plt.title(\"Resturant Data plot\", size=18)\n",
    "# sns.despine(offset=10, trim=True)"
   ]
  },
  {
   "cell_type": "code",
   "execution_count": 25,
   "id": "abbe05bb",
   "metadata": {},
   "outputs": [
    {
     "data": {
      "image/png": "[encoded data removed]",
      "text/plain": [
       "<Figure size 432x288 with 1 Axes>"
      ]
     },
     "metadata": {},
     "output_type": "display_data"
    }
   ],
   "source": [
    "import seaborn as sns\n",
    "sns.set_theme(style=\"ticks\", palette=\"pastel\")\n",
    "\n",
    "# Load the example tips dataset\n",
    "tips = sns.load_dataset(\"tips\")\n",
    "\n",
    "# Draw a nested boxplot to show bills by day and time\n",
    "sns.boxplot(x=\"day\", y=\"total_bill\",\n",
    "            hue=\"smoker\", palette=[\"m\", \"g\"],\n",
    "            data=tips)\n",
    "plt.xlabel(\"Day\",size=15)\n",
    "plt.ylabel(\"Total_Bill\", size=15)\n",
    "plt.title(\"Resturant Data plot\", size=18)\n",
    "\n",
    "# Trim true---remove the top and right spine (line) of the graph, offset shows the distance\n",
    "sns.despine(offset=10, trim=True) "
   ]
  },
  {
   "cell_type": "code",
   "execution_count": null,
   "id": "15a863f4",
   "metadata": {},
   "outputs": [],
   "source": []
  }
 ],
 "metadata": {
  "kernelspec": {
   "display_name": "Python 3 (ipykernel)",
   "language": "python",
   "name": "python3"
  },
  "language_info": {
   "codemirror_mode": {
    "name": "ipython",
    "version": 3
   },
   "file_extension": ".py",
   "mimetype": "text/x-python",
   "name": "python",
   "nbconvert_exporter": "python",
   "pygments_lexer": "ipython3",
   "version": "3.9.7"
  }
 },
 "nbformat": 4,
 "nbformat_minor": 5
}
